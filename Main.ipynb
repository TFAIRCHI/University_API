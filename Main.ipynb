{
 "cells": [
  {
   "cell_type": "code",
   "execution_count": 2,
   "metadata": {},
   "outputs": [],
   "source": [
    "import requests\n",
    "import json\n",
    "from pyspark.sql import SparkSession\n",
    "from pyspark.sql.functions import *\n"
   ]
  },
  {
   "cell_type": "code",
   "execution_count": 5,
   "metadata": {},
   "outputs": [
    {
     "name": "stdout",
     "output_type": "stream",
     "text": [
      "Count of colleges: 83\n",
      "+--------------------+--------------------+--------------+--------------------+\n",
      "|             domains|                name|state-province|           web_pages|\n",
      "+--------------------+--------------------+--------------+--------------------+\n",
      "|[upmc.edu, upmc.com]|University of Pit...|  Pennsylvania|[https://www.upmc...|\n",
      "|         [utrgv.edu]|The University of...|         Texas|[https://www.utrg...|\n",
      "|           [uvu.edu]|Utah Valley Unive...|          Utah|  [https://uvu.edu/]|\n",
      "|           [csn.edu]|College of Southe...|            NV|[https://www.csn....|\n",
      "|        [bloomu.edu]|Bloomsburg Univer...|  Pennsylvania|[http://www.bloom...|\n",
      "|           [cup.edu]|California Univer...|  Pennsylvania|[http://www.cup.e...|\n",
      "|       [clarion.edu]|Clarion Universit...|  Pennsylvania|[http://www.clari...|\n",
      "|  [allencollege.edu]|       Allen College|          Iowa|[https://www.alle...|\n",
      "|           [esu.edu]|East Stroudsburg ...|  Pennsylvania|[http://www.esu.e...|\n",
      "|      [edinboro.edu]|Edinboro Universi...|  Pennsylvania|[http://www.edinb...|\n",
      "|           [ehc.edu]|Emory & Henry Col...|            VA|[https://www.ehc....|\n",
      "|          [etbu.edu]|East Texas Baptis...|            TX|[https://www.etbu...|\n",
      "|     [haverford.edu]|Haverford College...|  Pennsylvania|[http://www.haver...|\n",
      "|[indiana.edu, iub...|Indiana Universit...|       Indiana|[https://blooming...|\n",
      "|           [iup.edu]|Indiana Universit...|  Pennsylvania|[http://www.iup.e...|\n",
      "|      [kutztown.edu]|Kutztown Universi...|  Pennsylvania|[http://www.kutzt...|\n",
      "|     [mansfield.edu]|Mansfield Univers...|  Pennsylvania|[http://www.mansf...|\n",
      "|    [mercyhurst.edu]|Mercyhurst Univer...|  Pennsylvania|[https://mercyhur...|\n",
      "|[denvercollegeofn...|Denver College of...|      Colorado|[https://www.denv...|\n",
      "|  [millersville.edu]|Millersville Univ...|  Pennsylvania|[http://www.mille...|\n",
      "+--------------------+--------------------+--------------+--------------------+\n",
      "only showing top 20 rows\n",
      "\n"
     ]
    }
   ],
   "source": [
    "\"\"\"Initializing Spark Session\"\"\"\n",
    "spark = SparkSession.builder.getOrCreate()\n",
    "sc = spark.sparkContext\n",
    "\"\"\"Read API That Shows University Information\"\"\"\n",
    "r = requests.request(\"GET\",'http://universities.hipolabs.com/search?country=United+States')\n",
    "\"\"\"Print JSON Fetched file as python dictionary\"\"\"\n",
    "data_j = r.json()\n",
    "\"\"\"Place a list of JSON Objects into a spark dataframe\"\"\"\n",
    "df = sc.parallelize(data_j).map(lambda x: json.dumps(x))\n",
    "df = spark.read.json(df)\n",
    "\"\"\"The File had a multitude of Null values in the state column which is what I wanted to work with\"\"\"\n",
    "df = df.na.drop(subset=['state-province'])\n",
    "\n",
    "\"\"\"Show Data-Set\"\"\"\n",
    "print('Count of colleges:',df.count())\n",
    "df.select('domains','name','state-province','web_pages').show()\n"
   ]
  },
  {
   "cell_type": "code",
   "execution_count": 7,
   "metadata": {},
   "outputs": [
    {
     "name": "stdout",
     "output_type": "stream",
     "text": [
      "+--------------+-----+\n",
      "|state-province|count|\n",
      "+--------------+-----+\n",
      "|          Utah|    1|\n",
      "|         Texas|    4|\n",
      "|  Pennsylvania|   31|\n",
      "|            NV|    1|\n",
      "|            VA|    1|\n",
      "|          Iowa|    1|\n",
      "|            TX|    2|\n",
      "|       Indiana|    1|\n",
      "|          Ohio|    2|\n",
      "|            IN|    1|\n",
      "|      New York|    1|\n",
      "|      Colorado|    1|\n",
      "|            CA|    2|\n",
      "|      Illinois|    1|\n",
      "|North Carolina|    2|\n",
      "| New Hampshire|    1|\n",
      "|South Carolina|    1|\n",
      "|    Washington|    2|\n",
      "|      Missouri|    1|\n",
      "|      Virginia|    1|\n",
      "|    California|    5|\n",
      "|            NY|    9|\n",
      "|            MI|    1|\n",
      "|            ND|    1|\n",
      "|      Michigan|    1|\n",
      "|  New York, NY|    4|\n",
      "|            GA|    2|\n",
      "|       Florida|    1|\n",
      "|         Maine|    1|\n",
      "+--------------+-----+\n",
      "\n"
     ]
    }
   ],
   "source": [
    "\"\"\"Count the number of universities that appeard in the list per state\"\"\"\n",
    "state_sum = df.groupBy(\"state-province\").count()\n",
    "state_sum.show(50)"
   ]
  },
  {
   "cell_type": "code",
   "execution_count": 8,
   "metadata": {},
   "outputs": [
    {
     "name": "stdout",
     "output_type": "stream",
     "text": [
      "State Name is in College Name: 38\n",
      "+--------------+-------------------------------------------------+\n",
      "|state-province|name                                             |\n",
      "+--------------+-------------------------------------------------+\n",
      "|Texas         |The University of Texas at Rio Grande Valley     |\n",
      "|Utah          |Utah Valley University                           |\n",
      "|Pennsylvania  |Bloomsburg University of Pennsylvania            |\n",
      "|Pennsylvania  |California University of Pennsylvania            |\n",
      "|Pennsylvania  |Clarion University of Pennsylvania               |\n",
      "|Pennsylvania  |East Stroudsburg State University of Pennsylvania|\n",
      "|Pennsylvania  |Edinboro University of Pennsylvania              |\n",
      "|Pennsylvania  |Haverford College in Pennsylvania                |\n",
      "|Indiana       |Indiana University - Bloomington                 |\n",
      "|Pennsylvania  |Indiana University of Pennsylvania               |\n",
      "|Pennsylvania  |Kutztown University of Pennsylvania              |\n",
      "|Pennsylvania  |Mansfield University of Pennsylvania             |\n",
      "|Pennsylvania  |Millersville University of Pennsylvania          |\n",
      "|Ohio          |Ohio State University - Columbus                 |\n",
      "|Pennsylvania  |Pennsylvania College of Technology               |\n",
      "|Pennsylvania  |Pennsylvania State University                    |\n",
      "|Pennsylvania  |Pennsylvania State University - Schuylkill Campus|\n",
      "|Pennsylvania  |Shippensburg University of Pennsylvania          |\n",
      "|Pennsylvania  |Slippery Rock University of Pennsylvania         |\n",
      "|Illinois      |University of Illinois, Urbana-Champaign         |\n",
      "|New Hampshire |University of New Hampshire                      |\n",
      "|North Carolina|The University of North Carolina at Greensboro   |\n",
      "|Pennsylvania  |University of Pennsylvania                       |\n",
      "|Texas         |The University of Texas at Austin                |\n",
      "|Texas         |The University of Texas at San Antonio           |\n",
      "|Virginia      |Virginia Tech                                    |\n",
      "|Pennsylvania  |West Chester University of Pennsylvania          |\n",
      "|Pennsylvania  |York College of Pennsylvania                     |\n",
      "|NY            |CUNY Baruch College                              |\n",
      "|NY            |CUNY Queens College                              |\n",
      "|NY            |CUNY City Tech                                   |\n",
      "|NY            |CUNY City College of NY                          |\n",
      "|NY            |CUNY Brooklyn College                            |\n",
      "|NY            |CUNY Medgar Evers College                        |\n",
      "|NY            |CUNY College of Staten Island                    |\n",
      "|NY            |CUNY Macauly Honors College                      |\n",
      "|Pennsylvania  |Pennsylvania Highlands Community College         |\n",
      "|Pennsylvania  |Pennsylvania Institute of Technology             |\n",
      "+--------------+-------------------------------------------------+\n",
      "\n"
     ]
    }
   ],
   "source": [
    "\"\"\"University Name Contains the name of the state\"\"\"\n",
    "state_univers = df.filter(col(\"name\").contains(col(\"state-province\")))\n",
    "print('State Name is in College Name:',state_univers.count())\n",
    "state_univers.select('state-province','name').show(state_univers.count(),truncate=False)"
   ]
  },
  {
   "cell_type": "code",
   "execution_count": null,
   "metadata": {},
   "outputs": [],
   "source": []
  }
 ],
 "metadata": {
  "kernelspec": {
   "display_name": "base",
   "language": "python",
   "name": "python3"
  },
  "language_info": {
   "codemirror_mode": {
    "name": "ipython",
    "version": 3
   },
   "file_extension": ".py",
   "mimetype": "text/x-python",
   "name": "python",
   "nbconvert_exporter": "python",
   "pygments_lexer": "ipython3",
   "version": "3.10.11"
  }
 },
 "nbformat": 4,
 "nbformat_minor": 2
}
