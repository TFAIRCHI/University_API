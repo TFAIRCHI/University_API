{
 "cells": [
  {
   "cell_type": "code",
   "execution_count": 1,
   "metadata": {},
   "outputs": [],
   "source": [
    "import requests\n",
    "import json\n",
    "from pyspark.sql import SparkSession\n",
    "from pyspark.sql.functions import *\n",
    "\"\"\"Initializing Spark Session\"\"\"\n",
    "spark = SparkSession.builder.getOrCreate()\n",
    "sc = spark.sparkContext\n",
    "\"\"\"Read API That Shows University Information\"\"\"\n",
    "r = requests.request(\"GET\",'http://universities.hipolabs.com/search?country=United+States')\n",
    "\"\"\"Print JSON Fetched file as python dictionary\"\"\"\n",
    "data_j = r.json()\n",
    "\"\"\"Place a list of JSON Objects into a spark dataframe\"\"\"\n",
    "df = sc.parallelize(data_j).map(lambda x: json.dumps(x))\n",
    "df = spark.read.json(df)\n",
    "\"\"\"The File had a multitude of Null values in the state column which is what I wanted to work with\"\"\"\n",
    "df = df.na.drop(subset=['state-province'])\n"
   ]
  },
  {
   "cell_type": "code",
   "execution_count": 2,
   "metadata": {},
   "outputs": [
    {
     "name": "stdout",
     "output_type": "stream",
     "text": [
      "+--------------+-----+\n",
      "|state-province|count|\n",
      "+--------------+-----+\n",
      "|          Utah|    1|\n",
      "|         Texas|    4|\n",
      "|  Pennsylvania|   31|\n",
      "|            NV|    1|\n",
      "|            VA|    1|\n",
      "|          Iowa|    1|\n",
      "|            TX|    2|\n",
      "|       Indiana|    1|\n",
      "|          Ohio|    2|\n",
      "|            IN|    1|\n",
      "|      New York|    1|\n",
      "|      Colorado|    1|\n",
      "|            CA|    2|\n",
      "|      Illinois|    1|\n",
      "|North Carolina|    2|\n",
      "| New Hampshire|    1|\n",
      "|South Carolina|    1|\n",
      "|    Washington|    2|\n",
      "|      Missouri|    1|\n",
      "|      Virginia|    1|\n",
      "|    California|    5|\n",
      "|            NY|    9|\n",
      "|            MI|    1|\n",
      "|            ND|    1|\n",
      "|      Michigan|    1|\n",
      "|  New York, NY|    4|\n",
      "|            GA|    2|\n",
      "|       Florida|    1|\n",
      "|         Maine|    1|\n",
      "+--------------+-----+\n",
      "\n"
     ]
    }
   ],
   "source": [
    "\"\"\"Count the number of universities that appeard in the list per state\"\"\"\n",
    "state_sum = df.groupBy(\"state-province\").count()\n",
    "state_sum.show(50)"
   ]
  },
  {
   "cell_type": "code",
   "execution_count": 5,
   "metadata": {},
   "outputs": [
    {
     "name": "stdout",
     "output_type": "stream",
     "text": [
      "+--------------+-------------+------------------------------------------+-------------------------------------------------+--------------+--------------------------------+\n",
      "|alpha_two_code|country      |domains                                   |name                                             |state-province|web_pages                       |\n",
      "+--------------+-------------+------------------------------------------+-------------------------------------------------+--------------+--------------------------------+\n",
      "|US            |United States|[utrgv.edu]                               |The University of Texas at Rio Grande Valley     |Texas         |[https://www.utrgv.edu/]        |\n",
      "|US            |United States|[uvu.edu]                                 |Utah Valley University                           |Utah          |[https://uvu.edu/]              |\n",
      "|US            |United States|[bloomu.edu]                              |Bloomsburg University of Pennsylvania            |Pennsylvania  |[http://www.bloomu.edu/]        |\n",
      "|US            |United States|[cup.edu]                                 |California University of Pennsylvania            |Pennsylvania  |[http://www.cup.edu/]           |\n",
      "|US            |United States|[clarion.edu]                             |Clarion University of Pennsylvania               |Pennsylvania  |[http://www.clarion.edu/]       |\n",
      "|US            |United States|[esu.edu]                                 |East Stroudsburg State University of Pennsylvania|Pennsylvania  |[http://www.esu.edu/]           |\n",
      "|US            |United States|[edinboro.edu]                            |Edinboro University of Pennsylvania              |Pennsylvania  |[http://www.edinboro.edu/]      |\n",
      "|US            |United States|[haverford.edu]                           |Haverford College in Pennsylvania                |Pennsylvania  |[http://www.haverford.edu/]     |\n",
      "|US            |United States|[indiana.edu, iub.edu, bloomington.iu.edu]|Indiana University - Bloomington                 |Indiana       |[https://bloomington.iu.edu/]   |\n",
      "|US            |United States|[iup.edu]                                 |Indiana University of Pennsylvania               |Pennsylvania  |[http://www.iup.edu/]           |\n",
      "|US            |United States|[kutztown.edu]                            |Kutztown University of Pennsylvania              |Pennsylvania  |[http://www.kutztown.edu/]      |\n",
      "|US            |United States|[mansfield.edu]                           |Mansfield University of Pennsylvania             |Pennsylvania  |[http://www.mansfield.edu/]     |\n",
      "|US            |United States|[millersville.edu]                        |Millersville University of Pennsylvania          |Pennsylvania  |[http://www.millersville.edu/]  |\n",
      "|US            |United States|[osu.edu]                                 |Ohio State University - Columbus                 |Ohio          |[https://www.osu.edu/]          |\n",
      "|US            |United States|[pct.edu]                                 |Pennsylvania College of Technology               |Pennsylvania  |[http://www.pct.edu/]           |\n",
      "|US            |United States|[psu.edu]                                 |Pennsylvania State University                    |Pennsylvania  |[http://www.psu.edu/]           |\n",
      "|US            |United States|[sl.psu.edu]                              |Pennsylvania State University - Schuylkill Campus|Pennsylvania  |[http://www.sl.psu.edu/]        |\n",
      "|US            |United States|[ship.edu]                                |Shippensburg University of Pennsylvania          |Pennsylvania  |[http://www.ship.edu/]          |\n",
      "|US            |United States|[sru.edu]                                 |Slippery Rock University of Pennsylvania         |Pennsylvania  |[http://www.sru.edu/]           |\n",
      "|US            |United States|[uiuc.edu, illinois.edu]                  |University of Illinois, Urbana-Champaign         |Illinois      |[https://illinois.edu/]         |\n",
      "|US            |United States|[unh.edu]                                 |University of New Hampshire                      |New Hampshire |[https://www.unh.edu/]          |\n",
      "|US            |United States|[uncg.edu]                                |The University of North Carolina at Greensboro   |North Carolina|[https://www.uncg.edu/]         |\n",
      "|US            |United States|[upenn.edu, seas.upenn.edu]               |University of Pennsylvania                       |Pennsylvania  |[http://www.upenn.edu/]         |\n",
      "|US            |United States|[utexas.edu]                              |The University of Texas at Austin                |Texas         |[https://www.utexas.edu/]       |\n",
      "|US            |United States|[utsa.edu]                                |The University of Texas at San Antonio           |Texas         |[https://www.utsa.edu/]         |\n",
      "|US            |United States|[vt.edu]                                  |Virginia Tech                                    |Virginia      |[https://www.vt.edu/]           |\n",
      "|US            |United States|[wcupa.edu]                               |West Chester University of Pennsylvania          |Pennsylvania  |[http://www.wcupa.edu/]         |\n",
      "|US            |United States|[ycp.edu]                                 |York College of Pennsylvania                     |Pennsylvania  |[http://www.ycp.edu/]           |\n",
      "|US            |United States|[baruch.cuny.edu]                         |CUNY Baruch College                              |NY            |[https://www.baruch.cuny.edu/]  |\n",
      "|US            |United States|[qc.cuny.edu]                             |CUNY Queens College                              |NY            |[https://www.qc.cuny.edu/]      |\n",
      "|US            |United States|[citytech.cuny.edu]                       |CUNY City Tech                                   |NY            |[https://www.citytech.cuny.edu/]|\n",
      "|US            |United States|[ccny.cuny.edu]                           |CUNY City College of NY                          |NY            |[https://www.ccny.cuny.edu/]    |\n",
      "|US            |United States|[brooklyn.cuny.edu]                       |CUNY Brooklyn College                            |NY            |[http://www.brooklyn.cuny.edu/] |\n",
      "|US            |United States|[mec.cuny.edu]                            |CUNY Medgar Evers College                        |NY            |[https://www.mec.cuny.edu/]     |\n",
      "|US            |United States|[csi.cuny.edu]                            |CUNY College of Staten Island                    |NY            |[https://www.csi.cuny.edu/]     |\n",
      "|US            |United States|[macauly.cuny.edu]                        |CUNY Macauly Honors College                      |NY            |[https://macaulay.cuny.edu/]    |\n",
      "|US            |United States|[pennhighlands.edu]                       |Pennsylvania Highlands Community College         |Pennsylvania  |[http://www.pennhighlands.edu]  |\n",
      "|US            |United States|[pit.edu]                                 |Pennsylvania Institute of Technology             |Pennsylvania  |[http://www.pit.edu]            |\n",
      "+--------------+-------------+------------------------------------------+-------------------------------------------------+--------------+--------------------------------+\n",
      "\n"
     ]
    }
   ],
   "source": [
    "\"\"\"University Name Contains the name of the state\"\"\"\n",
    "state_univers = df.filter(col(\"name\").contains(col(\"state-province\")))\n",
    "state_univers.show(state_univers.count(),truncate=False)"
   ]
  },
  {
   "cell_type": "code",
   "execution_count": null,
   "metadata": {},
   "outputs": [],
   "source": []
  }
 ],
 "metadata": {
  "kernelspec": {
   "display_name": "base",
   "language": "python",
   "name": "python3"
  },
  "language_info": {
   "codemirror_mode": {
    "name": "ipython",
    "version": 3
   },
   "file_extension": ".py",
   "mimetype": "text/x-python",
   "name": "python",
   "nbconvert_exporter": "python",
   "pygments_lexer": "ipython3",
   "version": "3.10.11"
  }
 },
 "nbformat": 4,
 "nbformat_minor": 2
}
